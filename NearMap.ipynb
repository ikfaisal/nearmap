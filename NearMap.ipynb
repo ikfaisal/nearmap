{
 "cells": [
  {
   "cell_type": "code",
   "execution_count": 1,
   "metadata": {
    "ExecuteTime": {
     "end_time": "2019-02-20T22:16:17.914830Z",
     "start_time": "2019-02-20T22:16:12.768728Z"
    }
   },
   "outputs": [],
   "source": [
    "# Import necessary libraries\n",
    "\n",
    "import pandas as pd\n",
    "from sklearn.metrics import precision_recall_fscore_support as score, confusion_matrix, accuracy_score"
   ]
  },
  {
   "cell_type": "code",
   "execution_count": 9,
   "metadata": {
    "ExecuteTime": {
     "end_time": "2019-02-20T22:16:40.752687Z",
     "start_time": "2019-02-20T22:16:40.725760Z"
    }
   },
   "outputs": [
    {
     "data": {
      "text/html": [
       "<div>\n",
       "<style scoped>\n",
       "    .dataframe tbody tr th:only-of-type {\n",
       "        vertical-align: middle;\n",
       "    }\n",
       "\n",
       "    .dataframe tbody tr th {\n",
       "        vertical-align: top;\n",
       "    }\n",
       "\n",
       "    .dataframe thead th {\n",
       "        text-align: right;\n",
       "    }\n",
       "</style>\n",
       "<table border=\"1\" class=\"dataframe\">\n",
       "  <thead>\n",
       "    <tr style=\"text-align: right;\">\n",
       "      <th></th>\n",
       "      <th># Calculate the f1 for Thursdays... this is not a trick question! We will search for the first 5 d.p. in your CV</th>\n",
       "    </tr>\n",
       "  </thead>\n",
       "  <tbody>\n",
       "    <tr>\n",
       "      <th>0</th>\n",
       "      <td>dates|y|yhat</td>\n",
       "    </tr>\n",
       "    <tr>\n",
       "      <th>1</th>\n",
       "      <td>1999-11-01|0|0</td>\n",
       "    </tr>\n",
       "    <tr>\n",
       "      <th>2</th>\n",
       "      <td>1999-11-02|0|1</td>\n",
       "    </tr>\n",
       "    <tr>\n",
       "      <th>3</th>\n",
       "      <td>1999-11-03|1|1</td>\n",
       "    </tr>\n",
       "    <tr>\n",
       "      <th>4</th>\n",
       "      <td>1999-11-04|1|0</td>\n",
       "    </tr>\n",
       "    <tr>\n",
       "      <th>5</th>\n",
       "      <td>1999-11-05|0|1</td>\n",
       "    </tr>\n",
       "    <tr>\n",
       "      <th>6</th>\n",
       "      <td>1999-11-06|0|0</td>\n",
       "    </tr>\n",
       "    <tr>\n",
       "      <th>7</th>\n",
       "      <td>1999-11-07|0|0</td>\n",
       "    </tr>\n",
       "    <tr>\n",
       "      <th>8</th>\n",
       "      <td>1999-11-08|1|1</td>\n",
       "    </tr>\n",
       "    <tr>\n",
       "      <th>9</th>\n",
       "      <td>1999-11-09|1|0</td>\n",
       "    </tr>\n",
       "    <tr>\n",
       "      <th>10</th>\n",
       "      <td>1999-11-10|1|0</td>\n",
       "    </tr>\n",
       "    <tr>\n",
       "      <th>11</th>\n",
       "      <td>1999-11-11|0|1</td>\n",
       "    </tr>\n",
       "    <tr>\n",
       "      <th>12</th>\n",
       "      <td>1999-11-12|1|0</td>\n",
       "    </tr>\n",
       "    <tr>\n",
       "      <th>13</th>\n",
       "      <td>1999-11-13|1|0</td>\n",
       "    </tr>\n",
       "    <tr>\n",
       "      <th>14</th>\n",
       "      <td>1999-11-14|1|0</td>\n",
       "    </tr>\n",
       "    <tr>\n",
       "      <th>15</th>\n",
       "      <td>1999-11-15|0|0</td>\n",
       "    </tr>\n",
       "    <tr>\n",
       "      <th>16</th>\n",
       "      <td>1999-11-16|1|0</td>\n",
       "    </tr>\n",
       "    <tr>\n",
       "      <th>17</th>\n",
       "      <td>1999-11-17|1|0</td>\n",
       "    </tr>\n",
       "    <tr>\n",
       "      <th>18</th>\n",
       "      <td>1999-11-18|0|1</td>\n",
       "    </tr>\n",
       "    <tr>\n",
       "      <th>19</th>\n",
       "      <td>1999-11-19|0|0</td>\n",
       "    </tr>\n",
       "    <tr>\n",
       "      <th>20</th>\n",
       "      <td>1999-11-20|0|0</td>\n",
       "    </tr>\n",
       "    <tr>\n",
       "      <th>21</th>\n",
       "      <td>1999-11-21|0|1</td>\n",
       "    </tr>\n",
       "    <tr>\n",
       "      <th>22</th>\n",
       "      <td>1999-11-22|1|0</td>\n",
       "    </tr>\n",
       "    <tr>\n",
       "      <th>23</th>\n",
       "      <td>1999-11-23|1|0</td>\n",
       "    </tr>\n",
       "    <tr>\n",
       "      <th>24</th>\n",
       "      <td>1999-11-24|0|1</td>\n",
       "    </tr>\n",
       "    <tr>\n",
       "      <th>25</th>\n",
       "      <td>1999-11-25|0|1</td>\n",
       "    </tr>\n",
       "    <tr>\n",
       "      <th>26</th>\n",
       "      <td>1999-11-26|0|1</td>\n",
       "    </tr>\n",
       "    <tr>\n",
       "      <th>27</th>\n",
       "      <td>1999-11-27|1|0</td>\n",
       "    </tr>\n",
       "    <tr>\n",
       "      <th>28</th>\n",
       "      <td>1999-11-28|0|1</td>\n",
       "    </tr>\n",
       "    <tr>\n",
       "      <th>29</th>\n",
       "      <td>1999-11-29|0|0</td>\n",
       "    </tr>\n",
       "    <tr>\n",
       "      <th>...</th>\n",
       "      <td>...</td>\n",
       "    </tr>\n",
       "    <tr>\n",
       "      <th>171</th>\n",
       "      <td>2000-04-19|1|1</td>\n",
       "    </tr>\n",
       "    <tr>\n",
       "      <th>172</th>\n",
       "      <td>2000-04-20|1|1</td>\n",
       "    </tr>\n",
       "    <tr>\n",
       "      <th>173</th>\n",
       "      <td>2000-04-21|1|1</td>\n",
       "    </tr>\n",
       "    <tr>\n",
       "      <th>174</th>\n",
       "      <td>2000-04-22|1|0</td>\n",
       "    </tr>\n",
       "    <tr>\n",
       "      <th>175</th>\n",
       "      <td>2000-04-23|1|0</td>\n",
       "    </tr>\n",
       "    <tr>\n",
       "      <th>176</th>\n",
       "      <td>2000-04-24|0|0</td>\n",
       "    </tr>\n",
       "    <tr>\n",
       "      <th>177</th>\n",
       "      <td>2000-04-25|0|0</td>\n",
       "    </tr>\n",
       "    <tr>\n",
       "      <th>178</th>\n",
       "      <td>2000-04-26|0|1</td>\n",
       "    </tr>\n",
       "    <tr>\n",
       "      <th>179</th>\n",
       "      <td>2000-04-27|0|0</td>\n",
       "    </tr>\n",
       "    <tr>\n",
       "      <th>180</th>\n",
       "      <td>2000-04-28|0|0</td>\n",
       "    </tr>\n",
       "    <tr>\n",
       "      <th>181</th>\n",
       "      <td>2000-04-29|1|1</td>\n",
       "    </tr>\n",
       "    <tr>\n",
       "      <th>182</th>\n",
       "      <td>2000-04-30|1|0</td>\n",
       "    </tr>\n",
       "    <tr>\n",
       "      <th>183</th>\n",
       "      <td>2000-05-01|1|1</td>\n",
       "    </tr>\n",
       "    <tr>\n",
       "      <th>184</th>\n",
       "      <td>2000-05-02|0|0</td>\n",
       "    </tr>\n",
       "    <tr>\n",
       "      <th>185</th>\n",
       "      <td>2000-05-03|0|0</td>\n",
       "    </tr>\n",
       "    <tr>\n",
       "      <th>186</th>\n",
       "      <td>2000-05-04|0|1</td>\n",
       "    </tr>\n",
       "    <tr>\n",
       "      <th>187</th>\n",
       "      <td>2000-05-05|0|0</td>\n",
       "    </tr>\n",
       "    <tr>\n",
       "      <th>188</th>\n",
       "      <td>2000-05-06|0|0</td>\n",
       "    </tr>\n",
       "    <tr>\n",
       "      <th>189</th>\n",
       "      <td>2000-05-07|0|1</td>\n",
       "    </tr>\n",
       "    <tr>\n",
       "      <th>190</th>\n",
       "      <td>2000-05-08|1|1</td>\n",
       "    </tr>\n",
       "    <tr>\n",
       "      <th>191</th>\n",
       "      <td>2000-05-09|0|1</td>\n",
       "    </tr>\n",
       "    <tr>\n",
       "      <th>192</th>\n",
       "      <td>2000-05-10|1|0</td>\n",
       "    </tr>\n",
       "    <tr>\n",
       "      <th>193</th>\n",
       "      <td>2000-05-11|0|0</td>\n",
       "    </tr>\n",
       "    <tr>\n",
       "      <th>194</th>\n",
       "      <td>2000-05-12|0|1</td>\n",
       "    </tr>\n",
       "    <tr>\n",
       "      <th>195</th>\n",
       "      <td>2000-05-13|0|1</td>\n",
       "    </tr>\n",
       "    <tr>\n",
       "      <th>196</th>\n",
       "      <td>2000-05-14|1|1</td>\n",
       "    </tr>\n",
       "    <tr>\n",
       "      <th>197</th>\n",
       "      <td>2000-05-15|0|1</td>\n",
       "    </tr>\n",
       "    <tr>\n",
       "      <th>198</th>\n",
       "      <td>2000-05-16|1|1</td>\n",
       "    </tr>\n",
       "    <tr>\n",
       "      <th>199</th>\n",
       "      <td>2000-05-17|1|1</td>\n",
       "    </tr>\n",
       "    <tr>\n",
       "      <th>200</th>\n",
       "      <td>2000-05-18|1|0</td>\n",
       "    </tr>\n",
       "  </tbody>\n",
       "</table>\n",
       "<p>201 rows × 1 columns</p>\n",
       "</div>"
      ],
      "text/plain": [
       "    # Calculate the f1 for Thursdays... this is not a trick question! We will search for the first 5 d.p. in your CV\n",
       "0                                         dates|y|yhat                                                              \n",
       "1                                       1999-11-01|0|0                                                              \n",
       "2                                       1999-11-02|0|1                                                              \n",
       "3                                       1999-11-03|1|1                                                              \n",
       "4                                       1999-11-04|1|0                                                              \n",
       "5                                       1999-11-05|0|1                                                              \n",
       "6                                       1999-11-06|0|0                                                              \n",
       "7                                       1999-11-07|0|0                                                              \n",
       "8                                       1999-11-08|1|1                                                              \n",
       "9                                       1999-11-09|1|0                                                              \n",
       "10                                      1999-11-10|1|0                                                              \n",
       "11                                      1999-11-11|0|1                                                              \n",
       "12                                      1999-11-12|1|0                                                              \n",
       "13                                      1999-11-13|1|0                                                              \n",
       "14                                      1999-11-14|1|0                                                              \n",
       "15                                      1999-11-15|0|0                                                              \n",
       "16                                      1999-11-16|1|0                                                              \n",
       "17                                      1999-11-17|1|0                                                              \n",
       "18                                      1999-11-18|0|1                                                              \n",
       "19                                      1999-11-19|0|0                                                              \n",
       "20                                      1999-11-20|0|0                                                              \n",
       "21                                      1999-11-21|0|1                                                              \n",
       "22                                      1999-11-22|1|0                                                              \n",
       "23                                      1999-11-23|1|0                                                              \n",
       "24                                      1999-11-24|0|1                                                              \n",
       "25                                      1999-11-25|0|1                                                              \n",
       "26                                      1999-11-26|0|1                                                              \n",
       "27                                      1999-11-27|1|0                                                              \n",
       "28                                      1999-11-28|0|1                                                              \n",
       "29                                      1999-11-29|0|0                                                              \n",
       "..                                                 ...                                                              \n",
       "171                                     2000-04-19|1|1                                                              \n",
       "172                                     2000-04-20|1|1                                                              \n",
       "173                                     2000-04-21|1|1                                                              \n",
       "174                                     2000-04-22|1|0                                                              \n",
       "175                                     2000-04-23|1|0                                                              \n",
       "176                                     2000-04-24|0|0                                                              \n",
       "177                                     2000-04-25|0|0                                                              \n",
       "178                                     2000-04-26|0|1                                                              \n",
       "179                                     2000-04-27|0|0                                                              \n",
       "180                                     2000-04-28|0|0                                                              \n",
       "181                                     2000-04-29|1|1                                                              \n",
       "182                                     2000-04-30|1|0                                                              \n",
       "183                                     2000-05-01|1|1                                                              \n",
       "184                                     2000-05-02|0|0                                                              \n",
       "185                                     2000-05-03|0|0                                                              \n",
       "186                                     2000-05-04|0|1                                                              \n",
       "187                                     2000-05-05|0|0                                                              \n",
       "188                                     2000-05-06|0|0                                                              \n",
       "189                                     2000-05-07|0|1                                                              \n",
       "190                                     2000-05-08|1|1                                                              \n",
       "191                                     2000-05-09|0|1                                                              \n",
       "192                                     2000-05-10|1|0                                                              \n",
       "193                                     2000-05-11|0|0                                                              \n",
       "194                                     2000-05-12|0|1                                                              \n",
       "195                                     2000-05-13|0|1                                                              \n",
       "196                                     2000-05-14|1|1                                                              \n",
       "197                                     2000-05-15|0|1                                                              \n",
       "198                                     2000-05-16|1|1                                                              \n",
       "199                                     2000-05-17|1|1                                                              \n",
       "200                                     2000-05-18|1|0                                                              \n",
       "\n",
       "[201 rows x 1 columns]"
      ]
     },
     "execution_count": 9,
     "metadata": {},
     "output_type": "execute_result"
    }
   ],
   "source": [
    "# Check file structure\n",
    "pd.read_csv('test.psv')"
   ]
  },
  {
   "cell_type": "code",
   "execution_count": 2,
   "metadata": {
    "ExecuteTime": {
     "end_time": "2019-02-20T22:16:18.557691Z",
     "start_time": "2019-02-20T22:16:18.518793Z"
    }
   },
   "outputs": [],
   "source": [
    "# read pipe file. first row is question itself.\n",
    "\n",
    "df = pd.read_csv('test.psv', delimiter='|', header=1)"
   ]
  },
  {
   "cell_type": "code",
   "execution_count": 3,
   "metadata": {
    "ExecuteTime": {
     "end_time": "2019-02-20T22:16:19.461390Z",
     "start_time": "2019-02-20T22:16:19.449421Z"
    }
   },
   "outputs": [],
   "source": [
    "# Convert dates to datetime\n",
    "\n",
    "df[\"dates\"] = pd.to_datetime(df[\"dates\"])"
   ]
  },
  {
   "cell_type": "code",
   "execution_count": 4,
   "metadata": {
    "ExecuteTime": {
     "end_time": "2019-02-20T22:16:20.020313Z",
     "start_time": "2019-02-20T22:16:20.013332Z"
    }
   },
   "outputs": [],
   "source": [
    "# Set datest as index \n",
    "\n",
    "df.set_index('dates', inplace=True)"
   ]
  },
  {
   "cell_type": "code",
   "execution_count": 5,
   "metadata": {
    "ExecuteTime": {
     "end_time": "2019-02-20T22:16:20.422237Z",
     "start_time": "2019-02-20T22:16:20.415257Z"
    }
   },
   "outputs": [],
   "source": [
    "# Find all rows of thursdays\n",
    "\n",
    "df_thursday = df[df.index.dayofweek == 3]"
   ]
  },
  {
   "cell_type": "code",
   "execution_count": 10,
   "metadata": {
    "ExecuteTime": {
     "end_time": "2019-02-20T22:19:42.826345Z",
     "start_time": "2019-02-20T22:19:42.814379Z"
    }
   },
   "outputs": [
    {
     "data": {
      "text/plain": [
       "array([[ 7, 11],\n",
       "       [ 7,  4]], dtype=int64)"
      ]
     },
     "execution_count": 10,
     "metadata": {},
     "output_type": "execute_result"
    }
   ],
   "source": [
    "y_pred = df_thursday['yhat']\n",
    "y_true = df_thursday['y']\n",
    "\n",
    "confusion_matrix(y_true, y_pred)"
   ]
  },
  {
   "cell_type": "code",
   "execution_count": 11,
   "metadata": {
    "ExecuteTime": {
     "end_time": "2019-02-20T22:19:53.813083Z",
     "start_time": "2019-02-20T22:19:53.803111Z"
    }
   },
   "outputs": [
    {
     "data": {
      "text/plain": [
       "0.3793103448275862"
      ]
     },
     "execution_count": 11,
     "metadata": {},
     "output_type": "execute_result"
    }
   ],
   "source": [
    "accuracy_score(y_true, y_pred)"
   ]
  },
  {
   "cell_type": "markdown",
   "metadata": {},
   "source": [
    "The F1 score can be interpreted as a weighted average of the precision and recall, where an F1 score reaches its best value at 1 and worst score at 0. The relative contribution of precision and recall to the F1 score are equal. The formula for the F1 score is:\n",
    "\n",
    ">> F1 = 2 * (precision * recall) / (precision + recall)"
   ]
  },
  {
   "cell_type": "code",
   "execution_count": 12,
   "metadata": {
    "ExecuteTime": {
     "end_time": "2019-02-20T22:20:01.352784Z",
     "start_time": "2019-02-20T22:20:01.341814Z"
    }
   },
   "outputs": [
    {
     "name": "stdout",
     "output_type": "stream",
     "text": [
      "precision: 0.4114942528735632\n",
      "recall: 0.3793103448275862\n",
      "fscore: 0.38826259946949604\n"
     ]
    }
   ],
   "source": [
    "# The F-beta score can be interpreted as a weighted harmonic mean of\n",
    "# the precision and recall, where an F-beta score reaches its best\n",
    "# value at 1 and worst score at 0.\n",
    "\n",
    "precision, recall, fscore, support = score(y_true, y_pred, average='weighted')\n",
    "\n",
    "print('precision: {}'.format(precision))\n",
    "print('recall: {}'.format(recall))\n",
    "print('fscore: {}'.format(fscore))"
   ]
  }
 ],
 "metadata": {
  "kernelspec": {
   "display_name": "Python 3",
   "language": "python",
   "name": "python3"
  },
  "language_info": {
   "codemirror_mode": {
    "name": "ipython",
    "version": 3
   },
   "file_extension": ".py",
   "mimetype": "text/x-python",
   "name": "python",
   "nbconvert_exporter": "python",
   "pygments_lexer": "ipython3",
   "version": "3.6.4"
  },
  "varInspector": {
   "cols": {
    "lenName": 16,
    "lenType": 16,
    "lenVar": 40
   },
   "kernels_config": {
    "python": {
     "delete_cmd_postfix": "",
     "delete_cmd_prefix": "del ",
     "library": "var_list.py",
     "varRefreshCmd": "print(var_dic_list())"
    },
    "r": {
     "delete_cmd_postfix": ") ",
     "delete_cmd_prefix": "rm(",
     "library": "var_list.r",
     "varRefreshCmd": "cat(var_dic_list()) "
    }
   },
   "types_to_exclude": [
    "module",
    "function",
    "builtin_function_or_method",
    "instance",
    "_Feature"
   ],
   "window_display": false
  }
 },
 "nbformat": 4,
 "nbformat_minor": 2
}
